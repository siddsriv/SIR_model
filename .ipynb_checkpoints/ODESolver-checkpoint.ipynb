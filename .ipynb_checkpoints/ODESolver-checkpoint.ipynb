{
 "cells": [
  {
   "cell_type": "markdown",
   "metadata": {},
   "source": [
    "# ODE Solver\n",
    "Currently supports the forward Euler method to solve first order differential equations."
   ]
  },
  {
   "cell_type": "markdown",
   "metadata": {},
   "source": [
    "$$ u(t+1) = u(t) + f(u(t), t) \\times \\Delta t $$\n",
    "\n",
    "where f is the model (equations) as per the SIR model, timestep ($\\Delta t$) is chosen as a parameter, and $u$ is the solution array that steps and integrates à la Euler.\n"
   ]
  },
  {
   "cell_type": "code",
   "execution_count": 2,
   "metadata": {},
   "outputs": [
    {
     "data": {
      "text/plain": [
       "'\\nScript to solve a general ODE, stepped as per the Forward Euler Method\\nlocal error is proportional to square(step_size) --> first order Differential Equation\\nglobal error is proportional to (step size)\\n'"
      ]
     },
     "execution_count": 2,
     "metadata": {},
     "output_type": "execute_result"
    }
   ],
   "source": [
    "import numpy as np\n",
    "\n",
    "\"\"\"\n",
    "Script to solve a general ODE, stepped as per the Forward Euler Method\n",
    "local error is proportional to square(step_size) --> first order Differential Equation\n",
    "global error is proportional to (step size)\n",
    "\"\"\""
   ]
  },
  {
   "cell_type": "code",
   "execution_count": 3,
   "metadata": {},
   "outputs": [],
   "source": [
    "class ODESolver:\n",
    "    \"\"\"\n",
    "    Superclass for solving ODEs (using Euler method - subclass).\n",
    "    \"\"\"\n",
    "    def __init__(self, model):\n",
    "        self.model = model\n",
    "\n",
    "    def step(self):\n",
    "        \"\"\"\n",
    "        Advance solution one time step. Implemented in subclass.\n",
    "        \"\"\"\n",
    "        pass\n",
    "\n",
    "    def set_init_conditions(self, U0):\n",
    "        #Scalar ODE\n",
    "        if isinstance(U0, (int, float)):\n",
    "            self.n_of_eqns = 1\n",
    "            U0 = float(U0)\n",
    "        else: #System of eqns\n",
    "            U0 = np.asarray(U0)\n",
    "            self.n_of_eqns = U0.size\n",
    "        self.U0 = U0\n",
    "\n",
    "    def solve(self, time_points):\n",
    "        self.t = np.asarray(time_points)\n",
    "        n = self.t.size #no of points = size of time steps array (no. of measurements) ---> npts = ndays/dt\n",
    "        self.u = np.zeros((n, self.n_of_eqns))\n",
    "        self.u[0, :] = self.U0 #First timepoint of the entire solution array (all 3 equations) set to the initial conditions\n",
    "        # Integrate\n",
    "        for i in range(n-1):\n",
    "            self.i = i\n",
    "            self.u[i + 1] = self.step() #Computing from second row; first row was initial conditions\n",
    "        return self.u[:i+2], self.t[:i+2] #loop is till n-1 "
   ]
  },
  {
   "cell_type": "code",
   "execution_count": 4,
   "metadata": {},
   "outputs": [],
   "source": [
    "class EulerMethod(ODESolver):\n",
    "    \"\"\"\n",
    "    u(t+1) = u(t) + (model * stepsize(x))\n",
    "    \"\"\"\n",
    "    def step(self): #Inheriting from superclass - override method\n",
    "        u, model, i, t = self.u, self.model, self.i, self.t\n",
    "        dt = t[i + 1] - t[i] #stepsize\n",
    "        return u[i, :] + dt * model(u[i, :], t[i])"
   ]
  }
 ],
 "metadata": {
  "kernelspec": {
   "display_name": "Python 3",
   "language": "python",
   "name": "python3"
  },
  "language_info": {
   "codemirror_mode": {
    "name": "ipython",
    "version": 3
   },
   "file_extension": ".py",
   "mimetype": "text/x-python",
   "name": "python",
   "nbconvert_exporter": "python",
   "pygments_lexer": "ipython3",
   "version": "3.7.5"
  }
 },
 "nbformat": 4,
 "nbformat_minor": 2
}
